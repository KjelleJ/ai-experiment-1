{
 "cells": [
  {
   "cell_type": "markdown",
   "id": "british-publication",
   "metadata": {},
   "source": [
    "## DeepAI API Toonify"
   ]
  },
  {
   "cell_type": "code",
   "execution_count": null,
   "id": "mathematical-generic",
   "metadata": {},
   "outputs": [],
   "source": [
    "# visa vår in-bild\n",
    "from pathlib import Path\n",
    "from IPython.display import Image\n",
    "Image(filename = Path('data') / 'kjja99.jpg') "
   ]
  },
  {
   "cell_type": "code",
   "execution_count": null,
   "id": "coordinated-techno",
   "metadata": {},
   "outputs": [],
   "source": [
    "# Kopierat från Toonify Python Examples\n",
    "# OBS: Du måste ersätta xxxx för api-key med den tillfälliga key som du ser i Toonify Python Examples\n",
    "\n",
    "# Example posting a local image file:\n",
    "\n",
    "import requests\n",
    "r = requests.post(\n",
    "    \"https://api.deepai.org/api/toonify\",\n",
    "    files={\n",
    "        'image': open(Path('data') / 'kjja99.jpg', 'rb'),\n",
    "    },\n",
    "    headers={'api-key': 'xxxxxxxxxxxxxxxxxxxxxxxxxxxxxx'}\n",
    ")\n",
    "print(r.json())"
   ]
  },
  {
   "cell_type": "code",
   "execution_count": null,
   "id": "specialized-marathon",
   "metadata": {},
   "outputs": [],
   "source": [
    "# response (svaret på request) är r.json() som är ett dictionary (krullpareneteser!). Key är 'output_url'\n",
    "print(r.json()['output_url'])"
   ]
  },
  {
   "cell_type": "code",
   "execution_count": null,
   "id": "provincial-defendant",
   "metadata": {
    "scrolled": true
   },
   "outputs": [],
   "source": [
    "# response innehåller alltså inte en bild utan en url till en bild\n",
    "# OBS url funkar bara i några minuter efter det att bilden skapas. Sedan tas bilden bort.\n",
    "# visa vår omvandlade bild\n",
    "Image(url=r.json()['output_url'])"
   ]
  },
  {
   "cell_type": "markdown",
   "id": "lyric-mistress",
   "metadata": {},
   "source": [
    "### Funktionen toonify()"
   ]
  },
  {
   "cell_type": "code",
   "execution_count": null,
   "id": "dying-vertical",
   "metadata": {},
   "outputs": [],
   "source": [
    "# Vi gör nu en funktion av allt så blir det lättare att använda\n",
    "# OBS: Du måste ersätta xxxx för api-key med den tillfälliga key som du ser i Toonify Python Examples\n",
    "\n",
    "# in_bild är en fil på disken\n",
    "def toonify(in_bild):\n",
    "    import requests\n",
    "    from IPython.display import Image, display\n",
    "\n",
    "    # visa in_bild\n",
    "    # display() måste användas eftersom inuti funktion\n",
    "    display(Image(filename = in_bild, width=400))\n",
    "    \n",
    "    # omvandla in_bild med toonify API\n",
    "    r = requests.post(\n",
    "        \"https://api.deepai.org/api/toonify\",\n",
    "        files={\n",
    "            'image': open(in_bild, 'rb'),\n",
    "        },\n",
    "        headers={'api-key': 'xxxxxxxxxxxxxxxxxxxxxxxxxxxxxxxxx'}\n",
    "    )\n",
    "    \n",
    "    # skriv ut svar - ifall fel\n",
    "    print(r.json()['output_url'])\n",
    "    \n",
    "    # visa resultatet\n",
    "    display(Image(url=r.json()['output_url'], width=400))\n"
   ]
  },
  {
   "cell_type": "code",
   "execution_count": null,
   "id": "hairy-retreat",
   "metadata": {},
   "outputs": [],
   "source": [
    "# Testa funktionen toonify()\n",
    "# Vill du pröva med en egen bild kopiera bilden till AI-experiment-1/data och ändra filnamnet kjja99.jpg här nedanför\n",
    "\n",
    "toonify(Path('data') / 'kjja99.jpg')"
   ]
  },
  {
   "cell_type": "markdown",
   "id": "continent-investing",
   "metadata": {},
   "source": [
    "## DeepAI API DeepDream"
   ]
  },
  {
   "cell_type": "code",
   "execution_count": null,
   "id": "verbal-observer",
   "metadata": {},
   "outputs": [],
   "source": [
    "# visa vår in-bild\n",
    "from pathlib import Path\n",
    "from IPython.display import Image\n",
    "Image(filename = Path('data') / 'robot.jpg') "
   ]
  },
  {
   "cell_type": "code",
   "execution_count": null,
   "id": "dying-coast",
   "metadata": {},
   "outputs": [],
   "source": [
    "# Kopierat från DeepDream Python Examples\n",
    "# OBS: Du måste ersätta xxxx för api-key med den tillfälliga key som du ser i DeepDream Python Examples\n",
    "\n",
    "# Example posting a local image file:\n",
    "\n",
    "from pathlib import Path\n",
    "import requests\n",
    "r = requests.post(\n",
    "    \"https://api.deepai.org/api/deepdream\",\n",
    "    files={\n",
    "        'image': open(Path('data') / 'robot.jpg', 'rb'),\n",
    "    },\n",
    "    headers={'api-key': 'xxxxxxxxxxxxxxxxxxxxxxxxxxxxxxxxxxxxxxxxxxxx}\n",
    ")\n",
    "print(r.json())"
   ]
  },
  {
   "cell_type": "code",
   "execution_count": null,
   "id": "lasting-vegetation",
   "metadata": {},
   "outputs": [],
   "source": [
    "# Vi gör en funktion deep_dream så blir det lättare att använda\n",
    "# Funktionen sparar alla bilder som bild0, bild1,... på foldern deep_dream\n",
    "# OBS: Du måste ersätta xxxx för api-key med den tillfälliga key som du ser i DeepDream Python Examples\n",
    "\n",
    "# start_bild är en fil på disken\n",
    "# niter är antal varv som bilden körs genom deepdrean API\n",
    "def deepdream(start_bild, niter):\n",
    "    from pathlib import Path\n",
    "    import requests\n",
    "    import urllib.request\n",
    "    from PIL import Image  \n",
    "    import PIL\n",
    "\n",
    "    # spara start_bild på disk som bild0 \n",
    "    bild0 =  Image.open(start_bild)\n",
    "    bild0.save(Path('deep_dream') / 'bild0.jpg')\n",
    "   \n",
    "    # kör startbilden niter gånger genom deepdream API och spara bilden för varje varv\n",
    "    for i in range (niter):\n",
    "        in_bild = Path('deep_dream') / (\"bild\" + str(i) + \".jpg\")\n",
    "        \n",
    "        # omvandla in_bild med DeepDream API\n",
    "        r = requests.post(\n",
    "            \"https://api.deepai.org/api/deepdream\",\n",
    "            files={\n",
    "                'image': open(in_bild, 'rb'),\n",
    "            },\n",
    "            headers={'api-key': 'xxxxxxxxxxxxxxxxxxxxxxxxxxxxxxxxxxxxxxxxxxx'}\n",
    "        )\n",
    "        # skriv ut svar - ifall fel\n",
    "        print(r.json()['output_url'])\n",
    "        \n",
    "        # hämta och spara resultatet i folder deep_dream\n",
    "        urllib.request.urlretrieve(r.json()['output_url'], Path('deep_dream') / (\"bild\" + str(i + 1) + \".jpg\"))\n",
    "\n",
    "    # vi ändrar storleken på bild0 till samma storlek som bild1\n",
    "    im1 = Image.open(Path('deep_dream') / 'bild1.jpg')\n",
    "    im0 = Image.open(Path('deep_dream') / 'bild0.jpg')\n",
    "    im_new = im0.resize(im1.size)\n",
    "    im_new.save(Path('deep_dream') / 'bild0.jpg')"
   ]
  },
  {
   "cell_type": "code",
   "execution_count": null,
   "id": "realistic-version",
   "metadata": {},
   "outputs": [],
   "source": [
    "# Skapa bilder med funktionen deepdream()\n",
    "# Vill du pröva med en egen bild kopiera bilden till AI-experiment\\data och ändra filnamnet robot.jpg här nedanför\n",
    "from pathlib import Path\n",
    "deepdream(Path('data') / 'robot.jpg', 10)"
   ]
  },
  {
   "cell_type": "code",
   "execution_count": null,
   "id": "exterior-dynamics",
   "metadata": {
    "scrolled": true
   },
   "outputs": [],
   "source": [
    "# Visa bilderna\n",
    "from pathlib import Path\n",
    "from IPython.display import Image\n",
    "for i in range(11):\n",
    "    display(Image(filename = Path('deep_dream') / ('bild' + str(i) + '.jpg'), retina=True)) "
   ]
  },
  {
   "cell_type": "markdown",
   "id": "changed-sudan",
   "metadata": {},
   "source": [
    "### Helt vit inbild"
   ]
  },
  {
   "cell_type": "code",
   "execution_count": null,
   "id": "postal-policy",
   "metadata": {},
   "outputs": [],
   "source": [
    "deepdream(Path('data') / 'all_white.jpg', 10)"
   ]
  },
  {
   "cell_type": "code",
   "execution_count": null,
   "id": "swiss-charger",
   "metadata": {
    "scrolled": false
   },
   "outputs": [],
   "source": [
    "# Visa bilderna\n",
    "from pathlib import Path\n",
    "from IPython.display import Image\n",
    "for i in range(1, 11):\n",
    "    display(Image(filename = Path('deep_dream') / ('bild' + str(i) + '.jpg'), retina=True)) "
   ]
  },
  {
   "cell_type": "code",
   "execution_count": null,
   "id": "alternate-norwegian",
   "metadata": {},
   "outputs": [],
   "source": []
  }
 ],
 "metadata": {
  "kernelspec": {
   "display_name": "Python 3",
   "language": "python",
   "name": "python3"
  },
  "language_info": {
   "codemirror_mode": {
    "name": "ipython",
    "version": 3
   },
   "file_extension": ".py",
   "mimetype": "text/x-python",
   "name": "python",
   "nbconvert_exporter": "python",
   "pygments_lexer": "ipython3",
   "version": "3.7.4"
  }
 },
 "nbformat": 4,
 "nbformat_minor": 5
}
