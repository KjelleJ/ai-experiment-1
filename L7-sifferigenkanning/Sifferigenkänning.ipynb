{
 "cells": [
  {
   "cell_type": "markdown",
   "id": "presidential-ferry",
   "metadata": {},
   "source": [
    "# Sifferigenkänning"
   ]
  },
  {
   "cell_type": "code",
   "execution_count": null,
   "id": "swedish-easter",
   "metadata": {},
   "outputs": [],
   "source": [
    "# Jag antar att tensorflow redan är installerat\n",
    "#!pip install tensorflow"
   ]
  },
  {
   "cell_type": "markdown",
   "id": "joint-parking",
   "metadata": {},
   "source": [
    "## MNIST dataset"
   ]
  },
  {
   "cell_type": "code",
   "execution_count": null,
   "id": "decent-relation",
   "metadata": {},
   "outputs": [],
   "source": [
    "from tensorflow.keras.datasets import mnist\n",
    "(train_images, train_labels), (test_images, test_labels) = mnist.load_data()"
   ]
  },
  {
   "cell_type": "code",
   "execution_count": null,
   "id": "personal-senator",
   "metadata": {},
   "outputs": [],
   "source": [
    "train_images.shape"
   ]
  },
  {
   "cell_type": "code",
   "execution_count": null,
   "id": "going-macintosh",
   "metadata": {},
   "outputs": [],
   "source": [
    "len(train_labels)"
   ]
  },
  {
   "cell_type": "code",
   "execution_count": null,
   "id": "retired-minneapolis",
   "metadata": {},
   "outputs": [],
   "source": [
    "train_labels"
   ]
  },
  {
   "cell_type": "code",
   "execution_count": null,
   "id": "banner-reproduction",
   "metadata": {},
   "outputs": [],
   "source": [
    "test_images.shape"
   ]
  },
  {
   "cell_type": "code",
   "execution_count": null,
   "id": "joint-apartment",
   "metadata": {},
   "outputs": [],
   "source": [
    "len(test_labels)"
   ]
  },
  {
   "cell_type": "code",
   "execution_count": null,
   "id": "boring-ethics",
   "metadata": {},
   "outputs": [],
   "source": [
    "test_labels"
   ]
  },
  {
   "cell_type": "code",
   "execution_count": null,
   "id": "banned-capital",
   "metadata": {},
   "outputs": [],
   "source": [
    "# plotta de 3 första siffrorna i träningsdata\n",
    "import matplotlib.pyplot as plt\n",
    "plt.figure(figsize=(12, 8))\n",
    "plt.subplot(1, 3, 1)\n",
    "plt.imshow(train_images[0], cmap='gray')\n",
    "plt.subplot(1, 3, 2)\n",
    "plt.imshow(train_images[1], cmap='gray')\n",
    "plt.subplot(1, 3, 3)\n",
    "plt.imshow(train_images[2], cmap='gray')\n",
    "plt.show()"
   ]
  },
  {
   "cell_type": "markdown",
   "id": "protective-provincial",
   "metadata": {},
   "source": [
    "## Enkel \"fully connected\" modell "
   ]
  },
  {
   "cell_type": "code",
   "execution_count": null,
   "id": "primary-cover",
   "metadata": {},
   "outputs": [],
   "source": [
    "# definiera modellen\n",
    "from tensorflow import keras\n",
    "from tensorflow.keras import layers\n",
    "model = keras.Sequential([\n",
    "    layers.Dense(512, activation=\"relu\"),\n",
    "    layers.Dense(10, activation=\"softmax\")\n",
    "])"
   ]
  },
  {
   "cell_type": "code",
   "execution_count": null,
   "id": "oriental-electronics",
   "metadata": {},
   "outputs": [],
   "source": [
    "# kompilera modellen\n",
    "model.compile(optimizer=\"rmsprop\",\n",
    "              loss=\"sparse_categorical_crossentropy\",\n",
    "              metrics=[\"accuracy\"])"
   ]
  },
  {
   "cell_type": "code",
   "execution_count": null,
   "id": "brazilian-cooling",
   "metadata": {},
   "outputs": [],
   "source": [
    "# preparera träningsdata och testdata\n",
    "# gör om (28,28) matrisen till en vektor (28*28)\n",
    "train_images = train_images.reshape((60000, 28 * 28))\n",
    "# pixelvärdena blir mellan 0.0 och 1.0\n",
    "train_images = train_images.astype(\"float32\") / 255\n",
    "test_images = test_images.reshape((10000, 28 * 28))\n",
    "test_images = test_images.astype(\"float32\") / 255\n",
    "print(train_images.shape)\n",
    "print(test_images.shape)"
   ]
  },
  {
   "cell_type": "code",
   "execution_count": null,
   "id": "funded-clinton",
   "metadata": {
    "scrolled": false
   },
   "outputs": [],
   "source": [
    "# träna modellen med 128 bilder i taget. Kör igenom alla data 5 gånger\n",
    "model.fit(train_images, train_labels, epochs=5, batch_size=128)"
   ]
  },
  {
   "cell_type": "code",
   "execution_count": null,
   "id": "answering-front",
   "metadata": {
    "scrolled": true
   },
   "outputs": [],
   "source": [
    "model.summary()"
   ]
  },
  {
   "cell_type": "code",
   "execution_count": null,
   "id": "based-governor",
   "metadata": {
    "scrolled": true
   },
   "outputs": [],
   "source": [
    "# beräkna noggrannheten för testdata\n",
    "test_loss, test_acc = model.evaluate(test_images, test_labels)\n",
    "print(f\"Test accuracy: {test_acc:.3f}\")"
   ]
  },
  {
   "cell_type": "code",
   "execution_count": null,
   "id": "suspended-stress",
   "metadata": {},
   "outputs": [],
   "source": [
    "# om vi ger bara en bild till vår modell måste vi lägga till en batchdimension\n",
    "# predict ger en array med sannolikheter för siffrorna 0-9\n",
    "# argmax() ger index för det största värdet\n",
    "import numpy as np\n",
    "print(test_images[0].shape)\n",
    "image = test_images[0][np.newaxis]\n",
    "print(image.shape)\n",
    "predictions = model.predict(image)\n",
    "print(predictions)\n",
    "print(\"prediktion:\" + str(predictions[0].argmax()) + \" sannolikhet:\" + str(predictions[0].max()))\n",
    "print(\"label:\" + str(test_labels[0]))"
   ]
  },
  {
   "cell_type": "code",
   "execution_count": null,
   "id": "duplicate-union",
   "metadata": {},
   "outputs": [],
   "source": [
    "# om vi ger flera bilder till modellen finns redan en batchdimension\n",
    "predictions = model.predict(test_images[0:10])\n",
    "for i in range(len(predictions)):\n",
    "    print(\"prediktion:\" + str(predictions[i].argmax()) + \" label:\" + str(test_labels[i]))"
   ]
  },
  {
   "cell_type": "markdown",
   "id": "immediate-bolivia",
   "metadata": {},
   "source": [
    "## Enkelt CNN"
   ]
  },
  {
   "cell_type": "code",
   "execution_count": null,
   "id": "infrared-raleigh",
   "metadata": {},
   "outputs": [],
   "source": [
    "from tensorflow import keras\n",
    "from tensorflow.keras import layers\n",
    "inputs = keras.Input(shape=(28, 28, 1))\n",
    "x = layers.Conv2D(filters=32, kernel_size=3, activation=\"relu\")(inputs)\n",
    "x = layers.MaxPooling2D(pool_size=2)(x)\n",
    "x = layers.Conv2D(filters=64, kernel_size=3, activation=\"relu\")(x)\n",
    "x = layers.MaxPooling2D(pool_size=2)(x)\n",
    "x = layers.Conv2D(filters=128, kernel_size=3, activation=\"relu\")(x)\n",
    "x = layers.Flatten()(x)\n",
    "outputs = layers.Dense(10, activation=\"softmax\")(x)\n",
    "model = keras.Model(inputs=inputs, outputs=outputs)"
   ]
  },
  {
   "cell_type": "code",
   "execution_count": null,
   "id": "usual-calculator",
   "metadata": {},
   "outputs": [],
   "source": [
    "model.summary()"
   ]
  },
  {
   "cell_type": "code",
   "execution_count": null,
   "id": "noticed-wonder",
   "metadata": {},
   "outputs": [],
   "source": [
    "# ladda och preparera data\n",
    "(train_images, train_labels), (test_images, test_labels) = mnist.load_data()\n",
    "train_images = train_images.reshape((60000, 28, 28, 1))\n",
    "train_images = train_images.astype(\"float32\") / 255\n",
    "test_images = test_images.reshape((10000, 28, 28, 1))\n",
    "test_images = test_images.astype(\"float32\") / 255\n",
    "print(train_images.shape)\n",
    "print(test_images.shape)"
   ]
  },
  {
   "cell_type": "code",
   "execution_count": null,
   "id": "scenic-alloy",
   "metadata": {},
   "outputs": [],
   "source": [
    "# kompilera modellen\n",
    "model.compile(optimizer=\"rmsprop\",\n",
    "    loss=\"sparse_categorical_crossentropy\",\n",
    "    metrics=[\"accuracy\"])"
   ]
  },
  {
   "cell_type": "code",
   "execution_count": null,
   "id": "organized-environment",
   "metadata": {},
   "outputs": [],
   "source": [
    "# träna modellen med 64 bilder i taget. Kör igenom alla data 5 gånger\n",
    "model.fit(train_images, train_labels, epochs=5, batch_size=64)"
   ]
  },
  {
   "cell_type": "code",
   "execution_count": null,
   "id": "sticky-priority",
   "metadata": {},
   "outputs": [],
   "source": [
    "model.save(\"mnist_classify\")"
   ]
  },
  {
   "cell_type": "code",
   "execution_count": null,
   "id": "concrete-synthesis",
   "metadata": {
    "scrolled": false
   },
   "outputs": [],
   "source": [
    "test_loss, test_acc = model.evaluate(test_images, test_labels)\n",
    "print(f\"Test accuracy: {test_acc:.3f}\")"
   ]
  },
  {
   "cell_type": "markdown",
   "id": "progressive-alpha",
   "metadata": {},
   "source": [
    "# Potta Feature Maps"
   ]
  },
  {
   "cell_type": "code",
   "execution_count": null,
   "id": "floral-workplace",
   "metadata": {},
   "outputs": [],
   "source": [
    "# definiera activation_model\n",
    "# plockar ut aktiveringarna från vår CNN-modell\n",
    "from tensorflow.keras import layers\n",
    "layer_outputs = []\n",
    "layer_names = []\n",
    "# skapa lista med aktiveringar\n",
    "for layer in model.layers:\n",
    "    if isinstance(layer, (layers.Conv2D, layers.MaxPooling2D)):\n",
    "        layer_outputs.append(layer.output)\n",
    "        layer_names.append(layer.name)\n",
    "activation_model = keras.Model(inputs=model.input, outputs=layer_outputs)"
   ]
  },
  {
   "cell_type": "code",
   "execution_count": null,
   "id": "final-jerusalem",
   "metadata": {},
   "outputs": [],
   "source": [
    "plt.imshow(train_images[1], cmap='gray')"
   ]
  },
  {
   "cell_type": "code",
   "execution_count": null,
   "id": "together-stack",
   "metadata": {},
   "outputs": [],
   "source": [
    "# skapa aktiveringar/feature maps för vår siffra\n",
    "activations = activation_model.predict(train_images[1][np.newaxis])"
   ]
  },
  {
   "cell_type": "code",
   "execution_count": null,
   "id": "induced-manufacturer",
   "metadata": {},
   "outputs": [],
   "source": [
    "for i in range(len(activations)):\n",
    "    print(str(i) + ': ', activations[i].shape)"
   ]
  },
  {
   "cell_type": "code",
   "execution_count": null,
   "id": "authentic-publisher",
   "metadata": {},
   "outputs": [],
   "source": [
    "for i in range(len(activations)):\n",
    "    sh = activations[i].shape\n",
    "    print('-----------------------------------------------')\n",
    "    print(layer_names[i])\n",
    "    print(str(sh[3]) + ' feature maps ' + str(sh[1]) + 'x' + str(sh[2]))\n",
    "    for j in range(sh[3]):\n",
    "        print('map' + str(j) + ' av ' + str(sh[3]-1))\n",
    "        plt.axis('off')\n",
    "        plt.imshow(activations[i][0,:,:,j], cmap='gray')\n",
    "        plt.show()"
   ]
  },
  {
   "cell_type": "code",
   "execution_count": null,
   "id": "cognitive-virgin",
   "metadata": {},
   "outputs": [],
   "source": [
    "# plotta första feature map för lagren\n",
    "plt.figure(figsize=(12, 8))\n",
    "for i in range(len(activations)):\n",
    "    sh = activations[i].shape\n",
    "    plt.subplot(2, 3, i + 1)\n",
    "    plt.axis('off')\n",
    "    plt.title(layer_names[i] + ' ' + str(sh[1]) + 'x' + str(sh[2]))\n",
    "    plt.imshow(activations[i][0,:,:,0], cmap='gray')\n",
    "plt.show()"
   ]
  },
  {
   "cell_type": "markdown",
   "id": "latest-norwegian",
   "metadata": {},
   "source": [
    "# Felaktig eller tveksam label?\n",
    "### Om label är fel SÄTT LABEL = PREDIKTION\n",
    "### [Eventuellt] Om det är omöjligt att avgöra vilken siffra SÄTT LABEL = PREDIKTION"
   ]
  },
  {
   "cell_type": "code",
   "execution_count": null,
   "id": "driving-poetry",
   "metadata": {},
   "outputs": [],
   "source": [
    "def corr_labels(data, labels):\n",
    "    ncorr = 0\n",
    "    nfel = 0\n",
    "    for i in range(len(data)):\n",
    "        image = data[i][np.newaxis]\n",
    "        predikt = model.predict(image).argmax()\n",
    "        if (predikt != labels[i]):\n",
    "            nfel = nfel + 1\n",
    "            print('-------------------------------------------------------')\n",
    "            plt.imshow(data[i], cmap='gray')\n",
    "            plt.show()\n",
    "            print(\"Bild nr:\" + str(i))\n",
    "            print(\"Labeled:\" + str(labels[i]))\n",
    "            print(\"Prediktion:\" + str(predikt))\n",
    "            digit = input(\"Enter correct digit or return if label is correct:\")\n",
    "            if (len(digit) > 0):\n",
    "                digit = int(digit)\n",
    "                if (digit >=0 and digit <= 9):\n",
    "                    labels[i] = digit\n",
    "                    ncorr = ncorr + 1\n",
    "    print(str(nfel) + \"felaktiga prediktioner\")\n",
    "    print(str(ncorr) + \"labels ändrade\")"
   ]
  },
  {
   "cell_type": "code",
   "execution_count": null,
   "id": "psychological-religious",
   "metadata": {
    "scrolled": false
   },
   "outputs": [],
   "source": [
    "# Kolla labels för träningsdata\n",
    "# Kolla en bit för att se helt felaktiga labels. Jag hittade några...\n",
    "# Klicka till vänster i cellen för att slippa scroll bars\n",
    "corr_labels(train_images, train_labels)"
   ]
  },
  {
   "cell_type": "code",
   "execution_count": null,
   "id": "previous-replication",
   "metadata": {
    "scrolled": true
   },
   "outputs": [],
   "source": [
    "# Kolla labels för testdata\n",
    "corr_labels(test_images, test_labels)"
   ]
  },
  {
   "cell_type": "code",
   "execution_count": null,
   "id": "going-korean",
   "metadata": {},
   "outputs": [],
   "source": []
  }
 ],
 "metadata": {
  "kernelspec": {
   "display_name": "Python 3",
   "language": "python",
   "name": "python3"
  },
  "language_info": {
   "codemirror_mode": {
    "name": "ipython",
    "version": 3
   },
   "file_extension": ".py",
   "mimetype": "text/x-python",
   "name": "python",
   "nbconvert_exporter": "python",
   "pygments_lexer": "ipython3",
   "version": "3.7.4"
  }
 },
 "nbformat": 4,
 "nbformat_minor": 5
}
