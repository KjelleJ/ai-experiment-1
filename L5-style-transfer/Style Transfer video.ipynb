{
 "cells": [
  {
   "cell_type": "markdown",
   "id": "handy-cover",
   "metadata": {},
   "source": [
    "## Installera Tensorflow och Tensorflow.hub"
   ]
  },
  {
   "cell_type": "code",
   "execution_count": null,
   "id": "filled-excitement",
   "metadata": {},
   "outputs": [],
   "source": [
    "# Du behöver bara köra den här cellen en gång\n",
    "!pip install tensorflow\n",
    "!pip install tensorflow_hub"
   ]
  },
  {
   "cell_type": "code",
   "execution_count": null,
   "id": "intermediate-server",
   "metadata": {},
   "outputs": [],
   "source": [
    "import tensorflow as tf\n",
    "import tensorflow_hub as hub\n",
    "import matplotlib.pyplot as plt\n",
    "import numpy as np\n",
    "from pathlib import Path"
   ]
  },
  {
   "cell_type": "markdown",
   "id": "direct-bandwidth",
   "metadata": {},
   "source": [
    "# Plotfunktioner - plottar bilderna"
   ]
  },
  {
   "cell_type": "code",
   "execution_count": null,
   "id": "stunning-sixth",
   "metadata": {},
   "outputs": [],
   "source": [
    "def img_in_plot(content_image, style_image):\n",
    "\n",
    "    plt.figure(figsize=(12, 12))\n",
    "    plt.subplot(1, 2, 1)\n",
    "    plt.imshow(content_image)\n",
    "    plt.title('Content Image')\n",
    "    plt.subplot(1, 2, 2)\n",
    "    plt.imshow(style_image)\n",
    "    plt.title('Style Image')\n",
    "\n",
    "    plt.show()"
   ]
  },
  {
   "cell_type": "code",
   "execution_count": null,
   "id": "colored-inquiry",
   "metadata": {},
   "outputs": [],
   "source": [
    "def img_out_plot(stylized_image):\n",
    "    # Set the size of the plot figure\n",
    "    plt.figure(figsize=(12, 12))\n",
    "\n",
    "    # Plot the stylized image\n",
    "    plt.imshow(stylized_image[0])\n",
    "\n",
    "    # Add title to the plot\n",
    "    plt.title('Stylized Image')\n",
    "\n",
    "    # Hide axes\n",
    "    plt.axis('off')\n",
    "\n",
    "    # Show the plot\n",
    "    plt.show()\n",
    "  "
   ]
  },
  {
   "cell_type": "markdown",
   "id": "norwegian-freedom",
   "metadata": {},
   "source": [
    "# Style transfer av en bild\n",
    "Exempelkod från\n",
    "https://tfhub.dev/google/magenta/arbitrary-image-stylization-v1-256/2"
   ]
  },
  {
   "cell_type": "code",
   "execution_count": null,
   "id": "surface-promotion",
   "metadata": {},
   "outputs": [],
   "source": [
    "# Funktionen style_transfer är samma som exempelkoden i tfhub men med plottning av bilderna\n",
    "def style_transfer(content_path, style_path):\n",
    "     # Load content and style images (see example in the attached colab).\n",
    "    content_image = plt.imread(content_path)\n",
    "    style_image = plt.imread(style_path)\n",
    "    img_in_plot(content_image, style_image)\n",
    "    # Convert to float32 numpy array, add batch dimension, and normalize to range [0, 1]. Example using numpy:\n",
    "    content_image = content_image.astype(np.float32)[np.newaxis, ...] / 255.\n",
    "    style_image = style_image.astype(np.float32)[np.newaxis, ...] / 255.\n",
    "    # Optionally resize the images. It is recommended that the style image is about\n",
    "    # 256 pixels (this size was used when training the style transfer network).\n",
    "    # The content image can be any size.\n",
    "    style_image = tf.image.resize(style_image, (256, 256))\n",
    "\n",
    "    # Stylize image.\n",
    "    outputs = hub_module(tf.constant(content_image), tf.constant(style_image))\n",
    "    stylized_image = outputs[0] \n",
    "    img_out_plot(stylized_image)"
   ]
  },
  {
   "cell_type": "markdown",
   "id": "chinese-occasions",
   "metadata": {},
   "source": [
    "## Ladda arbitrary-image-stylization"
   ]
  },
  {
   "cell_type": "code",
   "execution_count": null,
   "id": "paperback-distance",
   "metadata": {
    "scrolled": false
   },
   "outputs": [],
   "source": [
    "# Om fel \"tf hub OSError: SavedModel file does not exist at\" ta bort foldern och kör om...\n",
    "# /1 eller /2 (del av versionen) ger olika resultat. Jag föredrar /1 men pröva gärna /2\n",
    "\n",
    "# Load Magenta's Arbitrary Image Stylization network from TensorFlow Hub  \n",
    "hub_module = hub.load('https://tfhub.dev/google/magenta/arbitrary-image-stylization-v1-256/1')"
   ]
  },
  {
   "cell_type": "markdown",
   "id": "raising-nigeria",
   "metadata": {},
   "source": [
    "# Våra datastrukturer"
   ]
  },
  {
   "cell_type": "code",
   "execution_count": null,
   "id": "alone-captain",
   "metadata": {},
   "outputs": [],
   "source": [
    "def style_transfer_data(content_path, style_path):\n",
    "     # Load content and style images (see example in the attached colab).\n",
    "    content_image = plt.imread(content_path)\n",
    "    print(\"Bild efter inläsning (content_image):\")\n",
    "    print(type(content_image))\n",
    "    print(content_image.shape)\n",
    "    style_image = plt.imread(style_path)\n",
    "    # Convert to float32 numpy array, add batch dimension, and normalize to range [0, 1]. Example using numpy:\n",
    "    content_image = content_image.astype(np.float32)[np.newaxis, ...] / 255.\n",
    "    print(\"Bild efter transformering (content_image):\")\n",
    "    print(type(content_image))\n",
    "    print(content_image.shape)    \n",
    "    style_image = style_image.astype(np.float32)[np.newaxis, ...] / 255.\n",
    "    # Optionally resize the images. It is recommended that the style image is about\n",
    "    # 256 pixels (this size was used when training the style transfer network).\n",
    "    # The content image can be any size.\n",
    "    style_image = tf.image.resize(style_image, (256, 256))\n",
    "\n",
    "    # Stylize image.\n",
    "    outputs = hub_module(tf.constant(content_image), tf.constant(style_image))\n",
    "    stylized_image = outputs[0] \n",
    "    print(\"Resultat-bild (stylized_image):\")\n",
    "    print(type(stylized_image))\n",
    "    print(stylized_image.shape)"
   ]
  },
  {
   "cell_type": "code",
   "execution_count": null,
   "id": "appropriate-punishment",
   "metadata": {},
   "outputs": [],
   "source": [
    "style_transfer_data(Path(\"data\") / \"blue-cheer.jpg\",\n",
    "               Path(\"data\") / \"hilma-af-klint.JPG\")"
   ]
  },
  {
   "cell_type": "markdown",
   "id": "changing-population",
   "metadata": {},
   "source": [
    "## Pröva olika stilar (style) för vår bild (content)\n",
    "För att slå av/på scrollning inom cell: Klicka till vänster i cellen men utanför bilden"
   ]
  },
  {
   "cell_type": "code",
   "execution_count": null,
   "id": "invisible-guidance",
   "metadata": {
    "scrolled": false
   },
   "outputs": [],
   "source": [
    "style_transfer(Path(\"data\") / \"blue-cheer.jpg\",\n",
    "               Path(\"data\") / \"hilma-af-klint.JPG\")"
   ]
  },
  {
   "cell_type": "code",
   "execution_count": null,
   "id": "going-feeding",
   "metadata": {
    "scrolled": false
   },
   "outputs": [],
   "source": [
    "style_transfer(Path(\"data\") / \"blue-cheer.jpg\",\n",
    "              Path(\"data\") / \"van_gogh_bedroom_in_arles.jpg\")"
   ]
  },
  {
   "cell_type": "code",
   "execution_count": null,
   "id": "referenced-contractor",
   "metadata": {
    "scrolled": false
   },
   "outputs": [],
   "source": [
    "style_transfer(Path(\"data\") / \"blue-cheer.jpg\",\n",
    "               Path(\"data\") / \"john-bauer-troll.JPG\")"
   ]
  },
  {
   "cell_type": "markdown",
   "id": "fallen-hanging",
   "metadata": {},
   "source": [
    "# Funktioner för style transfer av videoclip"
   ]
  },
  {
   "cell_type": "code",
   "execution_count": null,
   "id": "limited-atlas",
   "metadata": {},
   "outputs": [],
   "source": [
    "# Style transfer av en frame (bild) \n",
    "def style_transfer_frame(content_path, style_image, target_path):\n",
    "    # Load content image\n",
    "    content_image = plt.imread(content_path)\n",
    "    # Convert to float32 numpy array, add batch dimension, and normalize to range [0, 1]. Example using numpy:\n",
    "    content_image = content_image.astype(np.float32)[np.newaxis, ...] / 255.\n",
    "\n",
    "    # Stylize image.\n",
    "    outputs = hub_module(tf.constant(content_image), tf.constant(style_image))\n",
    "    stylized_image = outputs[0]\n",
    "    tf.keras.utils.save_img(target_path, stylized_image[0])"
   ]
  },
  {
   "cell_type": "code",
   "execution_count": null,
   "id": "colored-carry",
   "metadata": {},
   "outputs": [],
   "source": [
    "# Style transfer av ett clip\n",
    "def style_transfer_clip(end, content_path_base, style_path, target_path_base):\n",
    "    from pathlib import Path\n",
    "    # Load content style image\n",
    "    style_image = plt.imread(style_path)\n",
    "    # Convert to float32 numpy array, add batch dimension, and normalize to range [0, 1]. Example using numpy:\n",
    "    style_image = style_image.astype(np.float32)[np.newaxis, ...] / 255.\n",
    "    # Optionally resize the images. It is recommended that the style image is about\n",
    "    # 256 pixels (this size was used when training the style transfer network).\n",
    "    # The content image can be any size.\n",
    "    style_image = tf.image.resize(style_image, (256, 256))\n",
    "    for i in range(1, end + 1):\n",
    "        path_end = \"scene{:05d}.jpg\".format(i)\n",
    "        style_transfer_frame(content_path_base / (path_end),\n",
    "                            style_image,\n",
    "                            target_path_base / (path_end))\n",
    "        "
   ]
  },
  {
   "cell_type": "markdown",
   "id": "stable-corps",
   "metadata": {},
   "source": [
    "# Style transfer för video från Blue Cheer\n",
    "### OBS! Anropen av ffmpeg måste du ändra till var du har installerat ffmpeg men oxå path till filer i foldrarna. Pathlib funkar inte här..."
   ]
  },
  {
   "cell_type": "code",
   "execution_count": null,
   "id": "romance-married",
   "metadata": {},
   "outputs": [],
   "source": [
    "# Skapa bilderna från videon. Här för den första minuten.\n",
    "!d:\\ffmpeg\\bin\\ffmpeg -ss 00:00 -i data\\\\blue-cheer.mp4 -t 01:00 -loglevel error clipin\\\\scene%05d.jpg"
   ]
  },
  {
   "cell_type": "markdown",
   "id": "bound-immigration",
   "metadata": {},
   "source": [
    "### Testa med stil Hilma af Klint"
   ]
  },
  {
   "cell_type": "code",
   "execution_count": null,
   "id": "mexican-claim",
   "metadata": {},
   "outputs": [],
   "source": [
    "# Style transfer på de första 200 bilderna\n",
    "# För hela videon finns det 5518 bilder\n",
    "# Det tar ungefär 1 sekund per bild\n",
    "style_transfer_clip(200,\n",
    "                Path(\"clipin\"),\n",
    "                Path(\"data\") / \"hilma-af-klint.jpg\",\n",
    "                Path(\"cliput\"))"
   ]
  },
  {
   "cell_type": "code",
   "execution_count": null,
   "id": "alien-response",
   "metadata": {
    "scrolled": true
   },
   "outputs": [],
   "source": [
    "# Skapa videon från bilderna\n",
    "!d:\\ffmpeg\\bin\\ffmpeg -start_number 00001 -i cliput\\\\scene%05d.jpg  -r 25 -y -loglevel error blue-cheer.mp4"
   ]
  },
  {
   "cell_type": "code",
   "execution_count": null,
   "id": "signed-relay",
   "metadata": {},
   "outputs": [],
   "source": [
    "# Lägg på ljudet\n",
    "!d:\\ffmpeg\\bin\\ffmpeg -i blue-cheer.mp4 -i data\\blue-cheer.m4a -map 0:v -map 1:a -c copy -shortest -y -loglevel error blue-cheer-1-ws.mp4"
   ]
  },
  {
   "cell_type": "code",
   "execution_count": null,
   "id": "vanilla-richmond",
   "metadata": {},
   "outputs": [],
   "source": [
    "# Visa videon med repeat i ett särskilt fönster\n",
    "# Du kan oxå förstås visa videon från foldern AI-experiment\\deep_dream och använda din vanliga video-spelare\n",
    "!d:\\ffmpeg\\bin\\ffplay -loop 5 -loglevel error blue-cheer-1-ws.mp4"
   ]
  },
  {
   "cell_type": "markdown",
   "id": "criminal-craps",
   "metadata": {},
   "source": [
    "### Testa med stil van Gogh"
   ]
  },
  {
   "cell_type": "code",
   "execution_count": null,
   "id": "choice-sterling",
   "metadata": {},
   "outputs": [],
   "source": [
    "# Style transfer på de första 200 bilderna\n",
    "# För hela videon finns det 5518 bilder\n",
    "# Det tar ungefär 1 sekund per bild\n",
    "style_transfer_clip(200,\n",
    "                Path(\"clipin\"),\n",
    "                Path(\"data\") / \"van_gogh_bedroom_in_arles.jpg\",\n",
    "                Path(\"cliput\"))"
   ]
  },
  {
   "cell_type": "code",
   "execution_count": null,
   "id": "delayed-bulletin",
   "metadata": {},
   "outputs": [],
   "source": [
    "# Skapa videon från bilderna\n",
    "!d:\\ffmpeg\\bin\\ffmpeg -start_number 00001 -i cliput\\\\scene%05d.jpg  -r 25 -y -loglevel error blue-cheer.mp4"
   ]
  },
  {
   "cell_type": "code",
   "execution_count": null,
   "id": "elementary-bidder",
   "metadata": {},
   "outputs": [],
   "source": [
    "# Lägg på ljudet\n",
    "!d:\\ffmpeg\\bin\\ffmpeg -i blue-cheer.mp4 -i data\\blue-cheer.m4a -map 0:v -map 1:a -c copy -shortest -y -loglevel error blue-cheer-2-ws.mp4"
   ]
  },
  {
   "cell_type": "code",
   "execution_count": null,
   "id": "sized-deputy",
   "metadata": {},
   "outputs": [],
   "source": [
    "# Visa videon med repeat i ett särskilt fönster\n",
    "# Du kan oxå förstås visa videon från foldern AI-experiment\\deep_dream och använda din vanliga video-spelare\n",
    "!d:\\ffmpeg\\bin\\ffplay -loop 5 -loglevel error blue-cheer-2-ws.mp4"
   ]
  },
  {
   "cell_type": "markdown",
   "id": "asian-revelation",
   "metadata": {},
   "source": [
    "### Testa med stil John Bauer"
   ]
  },
  {
   "cell_type": "code",
   "execution_count": null,
   "id": "objective-scotland",
   "metadata": {},
   "outputs": [],
   "source": [
    "# Style transfer på de första 200 bilderna\n",
    "# För hela videon finns det 5518 bilder\n",
    "# Det tar ungefär 1 sekund per bild\n",
    "style_transfer_clip(200,\n",
    "                 Path(\"clipin\"),\n",
    "                 Path(\"data\") / \"john-bauer-troll.JPG\",\n",
    "                 Path(\"cliput\"))"
   ]
  },
  {
   "cell_type": "code",
   "execution_count": null,
   "id": "unnecessary-coral",
   "metadata": {},
   "outputs": [],
   "source": [
    "# Skapa videon från bilderna\n",
    "!d:\\ffmpeg\\bin\\ffmpeg -start_number 00001 -i cliput\\\\scene%05d.jpg  -r 25 -y -loglevel error blue-cheer.mp4"
   ]
  },
  {
   "cell_type": "code",
   "execution_count": null,
   "id": "dental-sister",
   "metadata": {},
   "outputs": [],
   "source": [
    "# Lägg på ljudet\n",
    "!d:\\ffmpeg\\bin\\ffmpeg -i blue-cheer.mp4 -i data\\blue-cheer.m4a -map 0:v -map 1:a -c copy -shortest -y -loglevel error blue-cheer-3-ws.mp4"
   ]
  },
  {
   "cell_type": "code",
   "execution_count": null,
   "id": "immune-darkness",
   "metadata": {},
   "outputs": [],
   "source": [
    "# Visa videon med repeat i ett särskilt fönster\n",
    "# Du kan oxå förstås visa videon från foldern AI-experiment\\deep_dream och använda din vanliga video-spelare\n",
    "!d:\\ffmpeg\\bin\\ffplay -loop 5 -loglevel error blue-cheer-3-ws.mp4"
   ]
  },
  {
   "cell_type": "code",
   "execution_count": null,
   "id": "thick-collection",
   "metadata": {},
   "outputs": [],
   "source": []
  }
 ],
 "metadata": {
  "kernelspec": {
   "display_name": "Python 3",
   "language": "python",
   "name": "python3"
  },
  "language_info": {
   "codemirror_mode": {
    "name": "ipython",
    "version": 3
   },
   "file_extension": ".py",
   "mimetype": "text/x-python",
   "name": "python",
   "nbconvert_exporter": "python",
   "pygments_lexer": "ipython3",
   "version": "3.7.4"
  }
 },
 "nbformat": 4,
 "nbformat_minor": 5
}
