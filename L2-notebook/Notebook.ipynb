{
 "cells": [
  {
   "cell_type": "markdown",
   "id": "dense-accreditation",
   "metadata": {},
   "source": [
    "# Några enkla övningar med Jupyter Notebook\n",
    "Den här cellen är för dokumentation (Markdown)"
   ]
  },
  {
   "cell_type": "code",
   "execution_count": null,
   "id": "political-major",
   "metadata": {},
   "outputs": [],
   "source": [
    "# Den här cellen innehåller en rad med Python-kod (Code)\n",
    "x = 3"
   ]
  },
  {
   "cell_type": "code",
   "execution_count": null,
   "id": "soviet-green",
   "metadata": {},
   "outputs": [],
   "source": [
    "# Den här cellen innehåller en rad med Python-kod\n",
    "print(x)"
   ]
  },
  {
   "cell_type": "code",
   "execution_count": null,
   "id": "threatened-cover",
   "metadata": {
    "scrolled": true
   },
   "outputs": [],
   "source": [
    "python --version"
   ]
  },
  {
   "cell_type": "code",
   "execution_count": null,
   "id": "established-thermal",
   "metadata": {},
   "outputs": [],
   "source": []
  },
  {
   "cell_type": "code",
   "execution_count": null,
   "id": "taken-grass",
   "metadata": {},
   "outputs": [],
   "source": [
    "# prova kortkommandona a eller b för att lägga till en tom cell över respektive under "
   ]
  }
 ],
 "metadata": {
  "kernelspec": {
   "display_name": "Python 3",
   "language": "python",
   "name": "python3"
  },
  "language_info": {
   "codemirror_mode": {
    "name": "ipython",
    "version": 3
   },
   "file_extension": ".py",
   "mimetype": "text/x-python",
   "name": "python",
   "nbconvert_exporter": "python",
   "pygments_lexer": "ipython3",
   "version": "3.7.4"
  }
 },
 "nbformat": 4,
 "nbformat_minor": 5
}
