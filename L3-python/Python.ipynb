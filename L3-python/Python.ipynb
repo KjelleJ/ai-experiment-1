{
 "cells": [
  {
   "cell_type": "markdown",
   "id": "historic-checkout",
   "metadata": {},
   "source": [
    "# Indentering"
   ]
  },
  {
   "cell_type": "code",
   "execution_count": null,
   "id": "thirty-lemon",
   "metadata": {},
   "outputs": [],
   "source": [
    "# indentering både i funktionsdefinitionen och i loopen\n",
    "\n",
    "def simple(start, stop):\n",
    "    for i in range(start, stop):\n",
    "        print(i)\n",
    "        \n",
    "# funktionsanrop       \n",
    "simple(1, 5)"
   ]
  },
  {
   "cell_type": "markdown",
   "id": "complimentary-regression",
   "metadata": {},
   "source": [
    "# Några datatyper"
   ]
  },
  {
   "cell_type": "markdown",
   "id": "overall-psychiatry",
   "metadata": {},
   "source": [
    "## List - här används hak-parenteser []"
   ]
  },
  {
   "cell_type": "code",
   "execution_count": null,
   "id": "accompanied-quebec",
   "metadata": {},
   "outputs": [],
   "source": [
    "# elementen i listan kan vara av olika datatyper och också blandat\n",
    "lista = [1, 2, 3, 4, 5, 6, 7, 8]"
   ]
  },
  {
   "cell_type": "code",
   "execution_count": null,
   "id": "governmental-organization",
   "metadata": {},
   "outputs": [],
   "source": [
    "type(lista)"
   ]
  },
  {
   "cell_type": "code",
   "execution_count": null,
   "id": "placed-substance",
   "metadata": {},
   "outputs": [],
   "source": [
    "# index startar från 0 - så första elementet är...\n",
    "lista[0]"
   ]
  },
  {
   "cell_type": "code",
   "execution_count": null,
   "id": "brutal-poster",
   "metadata": {},
   "outputs": [],
   "source": [
    "# kan oxå indexeras bakifrån\n",
    "lista[-1]"
   ]
  },
  {
   "cell_type": "code",
   "execution_count": null,
   "id": "crazy-selection",
   "metadata": {},
   "outputs": [],
   "source": [
    "# listor kan ändras\n",
    "lista[0] = 22\n",
    "print(lista)"
   ]
  },
  {
   "cell_type": "code",
   "execution_count": null,
   "id": "overhead-reviewer",
   "metadata": {},
   "outputs": [],
   "source": [
    "# listor kan ändras\n",
    "lista[1] = [9, 10]\n",
    "print(lista)"
   ]
  },
  {
   "cell_type": "code",
   "execution_count": null,
   "id": "starting-robinson",
   "metadata": {},
   "outputs": [],
   "source": [
    "# listor kan ändras\n",
    "lista[2] = \"tre\"\n",
    "print(lista)"
   ]
  },
  {
   "cell_type": "markdown",
   "id": "periodic-combining",
   "metadata": {},
   "source": [
    "## Dictionary - här används krull-parenteser {}"
   ]
  },
  {
   "cell_type": "code",
   "execution_count": null,
   "id": "comic-family",
   "metadata": {},
   "outputs": [],
   "source": [
    "# definieras med nyckel:värde eller key:value\n",
    "dict = {1:\"ett\", 2:\"två\", \"tre\":3}\n",
    "print(dict)"
   ]
  },
  {
   "cell_type": "code",
   "execution_count": null,
   "id": "available-organ",
   "metadata": {},
   "outputs": [],
   "source": [
    "type(dict)"
   ]
  },
  {
   "cell_type": "code",
   "execution_count": null,
   "id": "minimal-geneva",
   "metadata": {},
   "outputs": [],
   "source": [
    "# key 1\n",
    "dict[1]"
   ]
  },
  {
   "cell_type": "code",
   "execution_count": null,
   "id": "young-exclusion",
   "metadata": {},
   "outputs": [],
   "source": [
    "# key 'tre'\n",
    "dict['tre']"
   ]
  },
  {
   "cell_type": "code",
   "execution_count": null,
   "id": "random-centre",
   "metadata": {},
   "outputs": [],
   "source": [
    "dict[1] = \"första\"\n",
    "print(dict)"
   ]
  },
  {
   "cell_type": "markdown",
   "id": "olympic-train",
   "metadata": {},
   "source": [
    "# if-elif-else"
   ]
  },
  {
   "cell_type": "code",
   "execution_count": null,
   "id": "critical-territory",
   "metadata": {},
   "outputs": [],
   "source": [
    "x = 10\n",
    "if x < 10:\n",
    "    print(\"x < 10\")\n",
    "elif x > 10:\n",
    "    print(\"x > 10\")\n",
    "else:\n",
    "    print(\"x = 10\")"
   ]
  },
  {
   "cell_type": "markdown",
   "id": "confident-truck",
   "metadata": {},
   "source": [
    "# while loop"
   ]
  },
  {
   "cell_type": "code",
   "execution_count": null,
   "id": "manual-stress",
   "metadata": {},
   "outputs": [],
   "source": [
    "i = 1\n",
    "while i < 5:\n",
    "    print(i)\n",
    "    # OBS i++ ej möjligt i Python\n",
    "    i = i + 1"
   ]
  },
  {
   "cell_type": "markdown",
   "id": "nasty-biography",
   "metadata": {},
   "source": [
    "# for loop"
   ]
  },
  {
   "cell_type": "code",
   "execution_count": null,
   "id": "smaller-blocking",
   "metadata": {},
   "outputs": [],
   "source": [
    "for i in range(1, 5):\n",
    "    print(i)"
   ]
  },
  {
   "cell_type": "code",
   "execution_count": null,
   "id": "virgin-credits",
   "metadata": {},
   "outputs": [],
   "source": [
    "lista = [0, \"ett\", 2, \"tre\"]\n",
    "for x in lista:\n",
    "    print(x)"
   ]
  },
  {
   "cell_type": "markdown",
   "id": "dental-hydrogen",
   "metadata": {},
   "source": [
    "# NumPy\n",
    "Python saknar datastrukturen array. Bl.a. därför används Python-biblioteket NumPy"
   ]
  },
  {
   "cell_type": "markdown",
   "id": "czech-legend",
   "metadata": {},
   "source": [
    "### vektor med 6 element"
   ]
  },
  {
   "cell_type": "code",
   "execution_count": null,
   "id": "understood-native",
   "metadata": {},
   "outputs": [],
   "source": [
    "import numpy as np\n",
    "x1 = np.array([1, 2, 3, 4, 5, 6])\n",
    "print(x1.shape)\n",
    "print(x1.ndim)\n",
    "x1"
   ]
  },
  {
   "cell_type": "code",
   "execution_count": null,
   "id": "tight-staff",
   "metadata": {},
   "outputs": [],
   "source": [
    "# index börjar på 0\n",
    "x1[0]"
   ]
  },
  {
   "cell_type": "code",
   "execution_count": null,
   "id": "indonesian-scroll",
   "metadata": {},
   "outputs": [],
   "source": [
    "x1[3]"
   ]
  },
  {
   "cell_type": "code",
   "execution_count": null,
   "id": "neither-christian",
   "metadata": {},
   "outputs": [],
   "source": [
    "x1[-1]"
   ]
  },
  {
   "cell_type": "markdown",
   "id": "mysterious-invitation",
   "metadata": {},
   "source": [
    "### matris med 2 rader och 3 kolumner"
   ]
  },
  {
   "cell_type": "code",
   "execution_count": null,
   "id": "arctic-recommendation",
   "metadata": {},
   "outputs": [],
   "source": [
    "x2 = np.array([[1, 2, 3], [4, 5, 6]])\n",
    "print(x2.shape)\n",
    "print(x2.ndim)\n",
    "x2"
   ]
  },
  {
   "cell_type": "code",
   "execution_count": null,
   "id": "incomplete-denver",
   "metadata": {},
   "outputs": [],
   "source": [
    "x2[1, 2]"
   ]
  },
  {
   "cell_type": "markdown",
   "id": "touched-worth",
   "metadata": {},
   "source": [
    "### slicing"
   ]
  },
  {
   "cell_type": "code",
   "execution_count": null,
   "id": "chief-collection",
   "metadata": {},
   "outputs": [],
   "source": [
    "# från index 3 och framåt\n",
    "x1[3:]"
   ]
  },
  {
   "cell_type": "code",
   "execution_count": null,
   "id": "clean-airport",
   "metadata": {},
   "outputs": [],
   "source": [
    "# från start och till och med index 2\n",
    "x1[:3]"
   ]
  },
  {
   "cell_type": "code",
   "execution_count": null,
   "id": "destroyed-middle",
   "metadata": {},
   "outputs": [],
   "source": [
    "x2[:]"
   ]
  },
  {
   "cell_type": "code",
   "execution_count": null,
   "id": "broken-institution",
   "metadata": {},
   "outputs": [],
   "source": [
    "# första raden, alla kolumner\n",
    "x2[:1, :]"
   ]
  },
  {
   "cell_type": "code",
   "execution_count": null,
   "id": "royal-announcement",
   "metadata": {},
   "outputs": [],
   "source": [
    "# alla rader, sista kolumnen\n",
    "x2[:, -1]"
   ]
  },
  {
   "cell_type": "markdown",
   "id": "unique-pacific",
   "metadata": {},
   "source": [
    "# Pathlib\n",
    "### Med Python-biblioteket pathlib kan vi jobba med filer och foldrar oberoende av operativsystem"
   ]
  },
  {
   "cell_type": "code",
   "execution_count": null,
   "id": "scheduled-chapter",
   "metadata": {},
   "outputs": [],
   "source": [
    "# print(file) blir data\\kjja99.jpg på Windows men data/kjja99.jpg på Linux\n",
    "from pathlib import Path\n",
    "file = Path('data') / 'kjja99.jpg'\n",
    "print(file)"
   ]
  },
  {
   "cell_type": "code",
   "execution_count": null,
   "id": "desirable-aaron",
   "metadata": {},
   "outputs": [],
   "source": []
  }
 ],
 "metadata": {
  "kernelspec": {
   "display_name": "Python 3",
   "language": "python",
   "name": "python3"
  },
  "language_info": {
   "codemirror_mode": {
    "name": "ipython",
    "version": 3
   },
   "file_extension": ".py",
   "mimetype": "text/x-python",
   "name": "python",
   "nbconvert_exporter": "python",
   "pygments_lexer": "ipython3",
   "version": "3.7.4"
  }
 },
 "nbformat": 4,
 "nbformat_minor": 5
}
