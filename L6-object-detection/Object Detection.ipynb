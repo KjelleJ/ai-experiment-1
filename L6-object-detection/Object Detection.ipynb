{
 "cells": [
  {
   "cell_type": "code",
   "execution_count": null,
   "id": "invalid-agreement",
   "metadata": {},
   "outputs": [],
   "source": [
    "# Jag antar att tensorflow och tensorflow_hub redan är installerade (lektion 5)\n",
    "#!pip install tensorflow\n",
    "#!pip install tensorflow_hub"
   ]
  },
  {
   "cell_type": "code",
   "execution_count": null,
   "id": "absolute-eleven",
   "metadata": {},
   "outputs": [],
   "source": [
    "# Alla nödvändiga bibliotek\n",
    "import tensorflow as tf\n",
    "import tensorflow_hub as hub\n",
    "import matplotlib.pyplot as plt\n",
    "import numpy as np\n",
    "from matplotlib.patches import Rectangle\n",
    "from PIL import Image\n",
    "from pathlib import Path"
   ]
  },
  {
   "cell_type": "code",
   "execution_count": null,
   "id": "changing-daniel",
   "metadata": {},
   "outputs": [],
   "source": [
    "# Vår bild\n",
    "image = Image.open(Path(\"data\") / \"jakan.JPG\")\n",
    "plt.axis('off')\n",
    "plt.imshow(image)"
   ]
  },
  {
   "cell_type": "code",
   "execution_count": null,
   "id": "considered-subdivision",
   "metadata": {},
   "outputs": [],
   "source": [
    "# En enkel object_detect\n",
    "def simple_object_detect(content_path):\n",
    "     # Load content image\n",
    "    content_image = plt.imread(content_path)\n",
    "    # Convert to float32 numpy array, add batch dimension, and normalize to range [0, 1]. Example using numpy:\n",
    "    # Det är samma krav på bilden som för style_transfer (lektion 6)\n",
    "    content_image = content_image.astype(np.float32)[np.newaxis, ...] / 255.\n",
    "\n",
    "    # Detect\n",
    "    # Problem med anropet därför signatures['default']\n",
    "    detector_output = detector.signatures['default'](tf.constant(content_image))\n",
    "    return(detector_output)"
   ]
  },
  {
   "cell_type": "code",
   "execution_count": null,
   "id": "third-theorem",
   "metadata": {},
   "outputs": [],
   "source": [
    "# Om fel \"tf hub OSError: SavedModel file does not exist at\" ta bort foldern och kör om...\n",
    "\n",
    "# Ladda detektorn från TensorFlow Hub\n",
    "detector = hub.load(\"https://tfhub.dev/google/openimages_v4/ssd/mobilenet_v2/1\")"
   ]
  },
  {
   "cell_type": "code",
   "execution_count": null,
   "id": "special-climate",
   "metadata": {},
   "outputs": [],
   "source": [
    "output = simple_object_detect(Path(\"data\") / \"jakan.JPG\")\n",
    "print(output)"
   ]
  },
  {
   "cell_type": "markdown",
   "id": "nominated-stick",
   "metadata": {},
   "source": [
    "## output dictionary"
   ]
  },
  {
   "cell_type": "code",
   "execution_count": null,
   "id": "dietary-bottle",
   "metadata": {},
   "outputs": [],
   "source": [
    "# output är ett dictionary {}\n",
    "# vi är bara instresserade detection_scores, detection_class_entities och detection_boxes\n",
    "scores = output['detection_scores']\n",
    "classes = output['detection_class_entities']\n",
    "boxes = output['detection_boxes']\n",
    "# gör om från tensorer till numpy arrayer\n",
    "scores = scores.numpy()\n",
    "# gör oxå om från byte till string\n",
    "classes = classes.numpy().astype(str)\n",
    "boxes = boxes.numpy()\n",
    "\n",
    "for i in range(len(scores)):\n",
    "    # skriv ut om score >= 0.2\n",
    "    if (scores[i] >= 0.20):\n",
    "        print(str(i), classes[i], scores[i], boxes[i])"
   ]
  },
  {
   "cell_type": "markdown",
   "id": "reverse-submission",
   "metadata": {},
   "source": [
    "## plotta bilden och objekten"
   ]
  },
  {
   "cell_type": "code",
   "execution_count": null,
   "id": "alpha-leeds",
   "metadata": {},
   "outputs": [],
   "source": [
    "# plotta bilden med bounding boxes och objekt-nummer\n",
    "image = Image.open(Path(\"data\") / \"jakan.JPG\")\n",
    "# Set the size of the plot figure\n",
    "plt.figure(figsize=(12, 12))\n",
    "plt.imshow(image)\n",
    "plt.axis('off')\n",
    "# Get the current reference\n",
    "ax = plt.gca()\n",
    "\n",
    "for i in range(5):\n",
    "    ymin = boxes[i][0]\n",
    "    xmin = boxes[i][1]\n",
    "    ymax = boxes[i][2]\n",
    "    xmax = boxes[i][3]\n",
    "    # Create a Rectangle patch\n",
    "    width = image.width*(xmax - xmin)\n",
    "    height = image.height*(ymax - ymin)\n",
    "    rect = Rectangle((image.width*xmin, image.height*ymin), width, height, \n",
    "                     linewidth=2, edgecolor='r', facecolor='none')\n",
    "    plt.text(image.width*xmin, image.height*ymin, str(i), color=\"red\", \n",
    "             fontdict={\"fontsize\":20,\"fontweight\":'bold',\"ha\":\"left\", \"va\":\"baseline\"})\n",
    "    # Add the patch to the Axes\n",
    "    ax.add_patch(rect)\n",
    "    \n",
    "plt.show()"
   ]
  },
  {
   "cell_type": "markdown",
   "id": "constitutional-fitness",
   "metadata": {},
   "source": [
    "# Funktionen object_detect()"
   ]
  },
  {
   "cell_type": "code",
   "execution_count": null,
   "id": "primary-context",
   "metadata": {},
   "outputs": [],
   "source": [
    "def object_detect(content_path, score_min):\n",
    "    # Load content image\n",
    "    content_image = plt.imread(content_path)\n",
    "    # Convert to float32 numpy array, add batch dimension, and normalize to range [0, 1]. Example using numpy:\n",
    "    # Det är samma krav på bilden som för style_transfer (lektion 6)\n",
    "    content_image = content_image.astype(np.float32)[np.newaxis, ...] / 255.\n",
    "\n",
    "    # Detect\n",
    "    # Problem med anropet därför signatures['default']\n",
    "    output = detector.signatures['default'](tf.constant(content_image))\n",
    "    \n",
    "   # output är ett dictionary {}\n",
    "    # vi är bara instresserade detection_scores, detection_class_entities och detection_boxes\n",
    "    scores = output['detection_scores']\n",
    "    classes = output['detection_class_entities']\n",
    "    boxes = output['detection_boxes']\n",
    "    # gör om från tensorer till numpy arrayer\n",
    "    scores = scores.numpy()\n",
    "    # gör oxå om från byte till string\n",
    "    classes = classes.numpy().astype(str)\n",
    "    boxes = boxes.numpy()\n",
    "    \n",
    "    for i in range(len(scores)):\n",
    "        # skriv ut om score >= score_min\n",
    "        if (scores[i] >= score_min):\n",
    "            print(str(i), classes[i], scores[i])\n",
    "            num_obj = i\n",
    "\n",
    "    # plotta bilden med bounding boxes och objekt-nummer\n",
    "    edge = ['r', 'y', 'b', 'g']\n",
    "    image = Image.open(content_path)\n",
    "    # Set the size of the plot figure\n",
    "    plt.figure(figsize=(12, 12))\n",
    "    plt.imshow(image)\n",
    "    plt.axis('off')\n",
    "    # Get the current reference\n",
    "    ax = plt.gca()\n",
    "\n",
    "    for i in range(num_obj + 1):\n",
    "        ymin = boxes[i][0]\n",
    "        xmin = boxes[i][1]\n",
    "        ymax = boxes[i][2]\n",
    "        xmax = boxes[i][3]\n",
    "        # Create a Rectangle patch\n",
    "        width = image.width*(xmax - xmin)\n",
    "        height = image.height*(ymax - ymin)\n",
    "        rect = Rectangle((image.width*xmin, image.height*ymin), width, height, \n",
    "                         linewidth=3, edgecolor=edge[i%4], facecolor='none')\n",
    "        plt.text(image.width*xmin, image.height*ymin, str(i), color='red', \n",
    "                 fontdict={\"fontsize\":20,\"fontweight\":'bold',\"ha\":\"left\", \"va\":\"baseline\"})\n",
    "        # Add the patch to the Axes\n",
    "        ax.add_patch(rect)\n",
    "    plt.show()   \n",
    "    "
   ]
  },
  {
   "cell_type": "code",
   "execution_count": null,
   "id": "asian-sphere",
   "metadata": {
    "scrolled": false
   },
   "outputs": [],
   "source": [
    "object_detect(Path(\"data\") / \"jakan.JPG\", 0.2)"
   ]
  },
  {
   "cell_type": "code",
   "execution_count": null,
   "id": "ranking-vegetable",
   "metadata": {
    "scrolled": false
   },
   "outputs": [],
   "source": [
    "object_detect(\"data\\\\jakan.JPG\", 0.1)"
   ]
  },
  {
   "cell_type": "markdown",
   "id": "informational-probability",
   "metadata": {},
   "source": [
    "## Pröva med bättre modell"
   ]
  },
  {
   "cell_type": "code",
   "execution_count": null,
   "id": "adapted-montana",
   "metadata": {},
   "outputs": [],
   "source": [
    "# Om fel \"tf hub OSError: SavedModel file does not exist at\" ta bort foldern och kör om...\n",
    "\n",
    "# Ladda detektorn från TensorFlow Hub\n",
    "# den här modellen ska ge bättre resultat men är långsammare.\n",
    "detector = hub.load(\"https://tfhub.dev/google/faster_rcnn/openimages_v4/inception_resnet_v2/1\")"
   ]
  },
  {
   "cell_type": "code",
   "execution_count": null,
   "id": "prospective-marble",
   "metadata": {},
   "outputs": [],
   "source": [
    "object_detect(Path(\"data\") / \"jakan.JPG\", 0.2)"
   ]
  },
  {
   "cell_type": "code",
   "execution_count": null,
   "id": "compound-torture",
   "metadata": {},
   "outputs": [],
   "source": [
    "object_detect(Path(\"data\") / \"jakan.JPG\", 0.1)"
   ]
  },
  {
   "cell_type": "code",
   "execution_count": null,
   "id": "careful-georgia",
   "metadata": {},
   "outputs": [],
   "source": [
    "object_detect(Path(\"data\") / \"hooks.JPG\", 0.2)"
   ]
  },
  {
   "cell_type": "code",
   "execution_count": null,
   "id": "hazardous-attack",
   "metadata": {},
   "outputs": [],
   "source": []
  }
 ],
 "metadata": {
  "kernelspec": {
   "display_name": "Python 3",
   "language": "python",
   "name": "python3"
  },
  "language_info": {
   "codemirror_mode": {
    "name": "ipython",
    "version": 3
   },
   "file_extension": ".py",
   "mimetype": "text/x-python",
   "name": "python",
   "nbconvert_exporter": "python",
   "pygments_lexer": "ipython3",
   "version": "3.7.4"
  }
 },
 "nbformat": 4,
 "nbformat_minor": 5
}
